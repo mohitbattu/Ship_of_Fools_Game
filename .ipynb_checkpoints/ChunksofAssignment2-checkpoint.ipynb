{
 "cells": [
  {
   "cell_type": "code",
   "execution_count": 1,
   "metadata": {},
   "outputs": [],
   "source": [
    "import random\n",
    "class Die:\n",
    "    def __init__(self):\n",
    "        self._value=1\n",
    "    #getter function\n",
    "    def get_value(self):\n",
    "        return self._value\n",
    "    def roll(self):\n",
    "        self._value=random.randint(1,6)"
   ]
  },
  {
   "cell_type": "code",
   "execution_count": 6,
   "metadata": {},
   "outputs": [
    {
     "name": "stdout",
     "output_type": "stream",
     "text": [
      "5\n"
     ]
    }
   ],
   "source": [
    "if __name__==\"__main__\":\n",
    "    d1 = Die()\n",
    "    d1.roll()\n",
    "    print(d1.get_value())"
   ]
  },
  {
   "cell_type": "code",
   "execution_count": 42,
   "metadata": {},
   "outputs": [
    {
     "name": "stdout",
     "output_type": "stream",
     "text": [
      "4\n"
     ]
    }
   ],
   "source": []
  },
  {
   "cell_type": "code",
   "execution_count": null,
   "metadata": {},
   "outputs": [],
   "source": [
    "class DiceCup:\n",
    "    def __init__(self,dice):\n",
    "        self._dice=[]\n",
    "        for count in range(0,5):\n",
    "            dice_number=Die()\n",
    "            self._dice.append(dice_number.roll())\n",
    "    def value(self,index):\n",
    "        pass\n",
    "    def bank(self,index: int):\n",
    "        if self._dice==6:\n",
    "            #dice.pop(dice.index(max(dice)))\n",
    "            banked=self._dice.pop(self._dice.index(self._dice))\n",
    "        elif banked==6:\n",
    "            if self._dice==5:\n",
    "                banked=self._dice.pop(self._dice.index(self._dice))\n",
    "        elif banked==5:\n",
    "            if self._dice==4:\n",
    "                banked=self._dice.pop(self._dice.index(self._dice))\n",
    "    def is_banked(self,index):\n",
    "        #bool\n",
    "        pass\n",
    "    def release(self,index):\n",
    "        pass\n",
    "    def release_all(self):\n",
    "        pass\n",
    "    def roll():\n",
    "        pass"
   ]
  },
  {
   "cell_type": "code",
   "execution_count": null,
   "metadata": {},
   "outputs": [],
   "source": [
    "\n",
    "    \n",
    "    "
   ]
  },
  {
   "cell_type": "code",
   "execution_count": null,
   "metadata": {},
   "outputs": [],
   "source": []
  }
 ],
 "metadata": {
  "kernelspec": {
   "display_name": "Python 3",
   "language": "python",
   "name": "python3"
  },
  "language_info": {
   "codemirror_mode": {
    "name": "ipython",
    "version": 3
   },
   "file_extension": ".py",
   "mimetype": "text/x-python",
   "name": "python",
   "nbconvert_exporter": "python",
   "pygments_lexer": "ipython3",
   "version": "3.7.6"
  }
 },
 "nbformat": 4,
 "nbformat_minor": 4
}
